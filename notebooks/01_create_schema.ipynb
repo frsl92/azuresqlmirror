{
 "cells": [
  {
   "cell_type": "markdown",
   "id": "e5d57c3f",
   "metadata": {},
   "source": [
    "# Create schema and tables for Fabric Mirroring demo\n",
    "This notebook connects to Azure SQL using SQL Authentication and creates:\n",
    "- Schema: `dbo` (default)\n",
    "- Tables: `DimCountry`, `DimStore`, `DimProduct`, `FactSales`"
   ]
  },
  {
   "cell_type": "code",
   "execution_count": 2,
   "id": "f274cbfe",
   "metadata": {},
   "outputs": [
    {
     "name": "stdout",
     "output_type": "stream",
     "text": [
      "Configuration loaded for server: sql-mirror-westus3-flopes.database.windows.net, database: fabricMirrorDemoDb\n"
     ]
    }
   ],
   "source": [
    "# Load configuration from .env file\n",
    "import os\n",
    "from dotenv import load_dotenv\n",
    "\n",
    "# Load environment variables from .env file\n",
    "load_dotenv()\n",
    "\n",
    "# Get configuration from environment variables\n",
    "SQL_SERVER_NAME = os.getenv('SQL_SERVER_NAME')\n",
    "SQL_DATABASE = os.getenv('SQL_DATABASE', 'fabricMirrorDemoDb')\n",
    "SQL_USER = os.getenv('SQL_USER')\n",
    "SQL_PASSWORD = os.getenv('SQL_PASSWORD')\n",
    "\n",
    "# Validate required configuration\n",
    "if not all([SQL_SERVER_NAME, SQL_USER, SQL_PASSWORD]):\n",
    "    raise ValueError(\"Missing required environment variables. Please check your .env file.\")\n",
    "    \n",
    "# Build full server name\n",
    "SQL_SERVER = f\"{SQL_SERVER_NAME}.database.windows.net\"\n",
    "print(f\"Configuration loaded for server: {SQL_SERVER}, database: {SQL_DATABASE}\")"
   ]
  },
  {
   "cell_type": "code",
   "execution_count": 3,
   "id": "ec2b56e8",
   "metadata": {},
   "outputs": [
    {
     "name": "stdout",
     "output_type": "stream",
     "text": [
      "Connected to Azure SQL\n"
     ]
    }
   ],
   "source": [
    "import pyodbc\n",
    "import textwrap\n",
    "\n",
    "conn_str = (\n",
    "    f\"DRIVER={{ODBC Driver 18 for SQL Server}};\"\n",
    "    f\"SERVER={SQL_SERVER};\"\n",
    "    f\"DATABASE={SQL_DATABASE};\"\n",
    "    f\"UID={SQL_USER};\"\n",
    "    f\"PWD={SQL_PASSWORD};\"\n",
    "    \"Encrypt=yes;TrustServerCertificate=no;Connection Timeout=30;\"\n",
    ")\n",
    "conn_str = ''.join(conn_str)\n",
    "conn = pyodbc.connect(conn_str)\n",
    "cursor = conn.cursor()\n",
    "print('Connected to Azure SQL')"
   ]
  },
  {
   "cell_type": "code",
   "execution_count": 4,
   "id": "e2208de6",
   "metadata": {},
   "outputs": [
    {
     "name": "stdout",
     "output_type": "stream",
     "text": [
      "Schema and tables ensured (Country, Store, Product, Sales with enhanced timestamps).\n"
     ]
    }
   ],
   "source": [
    "# Create tables with Product dimension and enhanced timestamps\n",
    "ddl = textwrap.dedent('''\n",
    "IF NOT EXISTS (SELECT 1 FROM sys.schemas WHERE name = 'dbo') EXEC('CREATE SCHEMA dbo');\n",
    ";\n",
    "IF OBJECT_ID('dbo.DimCountry','U') IS NULL BEGIN\n",
    "  CREATE TABLE dbo.DimCountry (\n",
    "    CountryKey   INT IDENTITY(1,1) PRIMARY KEY,\n",
    "    CountryCode  NVARCHAR(3) NOT NULL,\n",
    "    CountryName  NVARCHAR(100) NOT NULL,\n",
    "    Iso3         NVARCHAR(3) NULL,\n",
    "    CreatedAt    DATETIME2(3) NOT NULL DEFAULT SYSUTCDATETIME()\n",
    "  );\n",
    "  CREATE UNIQUE INDEX IX_DimCountry_CountryCode ON dbo.DimCountry(CountryCode);\n",
    "END;\n",
    ";\n",
    "IF OBJECT_ID('dbo.DimProduct','U') IS NULL BEGIN\n",
    "  CREATE TABLE dbo.DimProduct (\n",
    "    ProductKey   INT IDENTITY(1,1) PRIMARY KEY,\n",
    "    ProductCode  NVARCHAR(20) NOT NULL,\n",
    "    ProductName  NVARCHAR(200) NOT NULL,\n",
    "    Category     NVARCHAR(100) NULL,\n",
    "    UnitPrice    DECIMAL(18,2) NULL,\n",
    "    CreatedAt    DATETIME2(3) NOT NULL DEFAULT SYSUTCDATETIME()\n",
    "  );\n",
    "  CREATE UNIQUE INDEX IX_DimProduct_ProductCode ON dbo.DimProduct(ProductCode);\n",
    "END;\n",
    ";\n",
    "IF OBJECT_ID('dbo.DimStore','U') IS NULL BEGIN\n",
    "  CREATE TABLE dbo.DimStore (\n",
    "    StoreKey     INT IDENTITY(1,1) PRIMARY KEY,\n",
    "    StoreCode    NVARCHAR(20) NOT NULL,\n",
    "    StoreName    NVARCHAR(200) NOT NULL,\n",
    "    CountryKey   INT NOT NULL,\n",
    "    OpenDate     DATE NULL,\n",
    "    CreatedAt    DATETIME2(3) NOT NULL DEFAULT SYSUTCDATETIME(),\n",
    "    CONSTRAINT FK_DimStore_DimCountry FOREIGN KEY (CountryKey) REFERENCES dbo.DimCountry(CountryKey)\n",
    "  );\n",
    "  CREATE UNIQUE INDEX IX_DimStore_StoreCode ON dbo.DimStore(StoreCode);\n",
    "END;\n",
    ";\n",
    "IF OBJECT_ID('dbo.FactSales','U') IS NULL BEGIN\n",
    "  CREATE TABLE dbo.FactSales (\n",
    "    SalesId      BIGINT IDENTITY(1,1) PRIMARY KEY,\n",
    "    StoreKey     INT NOT NULL,\n",
    "    CountryKey   INT NOT NULL,\n",
    "    ProductKey   INT NOT NULL,\n",
    "    SaleTimestamp DATETIME2(3) NOT NULL,        -- When the sale occurred (business time)\n",
    "    Quantity     INT NOT NULL,\n",
    "    UnitPrice    DECIMAL(18,2) NOT NULL,\n",
    "    Amount       DECIMAL(18,2) NOT NULL,\n",
    "    InsertedAt   DATETIME2(3) NOT NULL DEFAULT SYSUTCDATETIME(), -- When record was inserted (system time)\n",
    "    CONSTRAINT FK_FactSales_Store FOREIGN KEY (StoreKey) REFERENCES dbo.DimStore(StoreKey),\n",
    "    CONSTRAINT FK_FactSales_Country FOREIGN KEY (CountryKey) REFERENCES dbo.DimCountry(CountryKey),\n",
    "    CONSTRAINT FK_FactSales_Product FOREIGN KEY (ProductKey) REFERENCES dbo.DimProduct(ProductKey)\n",
    "  );\n",
    "  CREATE INDEX IX_FactSales_SaleTimestamp ON dbo.FactSales(SaleTimestamp);\n",
    "  CREATE INDEX IX_FactSales_InsertedAt ON dbo.FactSales(InsertedAt);\n",
    "  CREATE INDEX IX_FactSales_ProductKey ON dbo.FactSales(ProductKey);\n",
    "END;\n",
    "''')\n",
    "cursor.execute(ddl)\n",
    "conn.commit()\n",
    "print('Schema and tables ensured (Country, Store, Product, Sales with enhanced timestamps).')"
   ]
  }
 ],
 "metadata": {
  "kernelspec": {
   "display_name": "Fabric-IPO",
   "language": "python",
   "name": "python3"
  },
  "language_info": {
   "codemirror_mode": {
    "name": "ipython",
    "version": 3
   },
   "file_extension": ".py",
   "mimetype": "text/x-python",
   "name": "python",
   "nbconvert_exporter": "python",
   "pygments_lexer": "ipython3",
   "version": "3.12.10"
  }
 },
 "nbformat": 4,
 "nbformat_minor": 5
}
